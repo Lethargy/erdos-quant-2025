{
 "cells": [
  {
   "cell_type": "markdown",
   "id": "957e7b08",
   "metadata": {},
   "source": [
    "# Mini Project 1\n",
    "\n",
    "**2025 Introduction to Quantiative Methods in Finance**\n",
    "\n",
    "**The Erdös Institute**\n",
    "\n",
    "**Instructions** Use current stock data to create two potentially profitable investment portfolios. One that is higher risk and one that is lower risk.\n",
    "\n",
    "-- You are to interpret and explain your interpretation of a high risk profile and low risk profile of a portfolio. You should provide some measurable quantitative data in your explanation."
   ]
  },
  {
   "cell_type": "markdown",
   "id": "b525d917",
   "metadata": {},
   "source": [
    "# Selecting the Portfolios\n",
    "We will choose as our high risk portfolio the 5 largest tech stocks by market capitalization. Our low risk portfolio will be the S&P 500. These selections are made to demonstrate the benefits of diversification."
   ]
  },
  {
   "cell_type": "code",
   "execution_count": 1,
   "id": "ceced76b",
   "metadata": {},
   "outputs": [],
   "source": [
    "import pandas as pd\n",
    "import numpy as np\n",
    "import numpy.linalg as LA\n",
    "import matplotlib.pyplot as plt\n",
    "import yfinance as yf\n",
    "from scipy import stats"
   ]
  },
  {
   "cell_type": "code",
   "execution_count": 2,
   "id": "55aebcaf",
   "metadata": {},
   "outputs": [
    {
     "name": "stderr",
     "output_type": "stream",
     "text": [
      "C:\\Users\\luvy\\AppData\\Local\\Temp\\ipykernel_29884\\571376389.py:3: FutureWarning: YF.download() has changed argument auto_adjust default to True\n",
      "  tech = yf.download(tickers, start = '2013-01-01', end = '2025-01-01')['Close']\n",
      "[*********************100%***********************]  5 of 5 completed\n"
     ]
    }
   ],
   "source": [
    "# building the high risk portfolio\n",
    "tickers = ['AAPL', 'AMZN', 'GOOG', 'MSFT', 'NVDA']\n",
    "tech = yf.download(tickers, start = '2013-01-01', end = '2025-01-01')['Close']"
   ]
  },
  {
   "cell_type": "code",
   "execution_count": 3,
   "id": "5488e4db",
   "metadata": {},
   "outputs": [
    {
     "name": "stderr",
     "output_type": "stream",
     "text": [
      "C:\\Users\\luvy\\AppData\\Local\\Temp\\ipykernel_29884\\4010153981.py:2: FutureWarning: YF.download() has changed argument auto_adjust default to True\n",
      "  sp500 = yf.download('^GSPC', start = '2013-01-01', end = '2025-01-01')['Close']\n",
      "[*********************100%***********************]  1 of 1 completed\n"
     ]
    }
   ],
   "source": [
    "# S&P 500\n",
    "sp500 = yf.download('^GSPC', start = '2013-01-01', end = '2025-01-01')['Close']"
   ]
  },
  {
   "cell_type": "markdown",
   "id": "59dad1c3-dcc7-43bd-a98a-899078ca64d7",
   "metadata": {},
   "source": [
    "# sample statistics"
   ]
  },
  {
   "cell_type": "markdown",
   "id": "5856692d",
   "metadata": {},
   "source": [
    "## high risk portfolio"
   ]
  },
  {
   "cell_type": "code",
   "execution_count": 4,
   "id": "51e27728-67a6-45e1-8567-4e46461925ff",
   "metadata": {},
   "outputs": [],
   "source": [
    "tech_returns = tech.pct_change().dropna()\n",
    "N_days, N_stocks = tech_returns.shape\n",
    "\n",
    "trading_days = 250\n",
    "tech_annual_mean_returns = tech_returns.mean() * trading_days\n",
    "tech_annual_cov_matrix = tech_returns.cov() * trading_days"
   ]
  },
  {
   "cell_type": "code",
   "execution_count": 5,
   "id": "1f0163b3",
   "metadata": {
    "scrolled": true
   },
   "outputs": [
    {
     "name": "stdout",
     "output_type": "stream",
     "text": [
      "Ticker\n",
      "AAPL    0.263180\n",
      "AMZN    0.286555\n",
      "GOOG    0.232891\n",
      "MSFT    0.277568\n",
      "NVDA    0.608839\n",
      "dtype: float64\n"
     ]
    }
   ],
   "source": [
    "# returns of risky tech stocks\n",
    "print(tech_annual_mean_returns)"
   ]
  },
  {
   "cell_type": "code",
   "execution_count": 6,
   "id": "f9b2d90d",
   "metadata": {},
   "outputs": [
    {
     "name": "stdout",
     "output_type": "stream",
     "text": [
      "Ticker      AAPL      AMZN      GOOG      MSFT      NVDA\n",
      "Ticker                                                  \n",
      "AAPL    0.077482  0.043829  0.041833  0.044829  0.063378\n",
      "AMZN    0.043829  0.103443  0.054613  0.050552  0.070660\n",
      "GOOG    0.041833  0.054613  0.074815  0.048155  0.063117\n",
      "MSFT    0.044829  0.050552  0.048155  0.068898  0.067971\n",
      "NVDA    0.063378  0.070660  0.063117  0.067971  0.204368\n"
     ]
    }
   ],
   "source": [
    "# covariance of risky tech stocks\n",
    "print(tech_annual_cov_matrix)"
   ]
  },
  {
   "cell_type": "code",
   "execution_count": 7,
   "id": "f6e5d774",
   "metadata": {},
   "outputs": [
    {
     "name": "stdout",
     "output_type": "stream",
     "text": [
      "Ticker      AAPL      AMZN      GOOG      MSFT      NVDA\n",
      "Ticker                                                  \n",
      "AAPL    1.000000  0.489567  0.549440  0.613557  0.503656\n",
      "AMZN    0.489567  1.000000  0.620802  0.598811  0.485981\n",
      "GOOG    0.549440  0.620802  1.000000  0.670723  0.510442\n",
      "MSFT    0.613557  0.598811  0.670723  1.000000  0.572817\n",
      "NVDA    0.503656  0.485981  0.510442  0.572817  1.000000\n"
     ]
    }
   ],
   "source": [
    "# high correlation of risky tech stocks\n",
    "print(tech_returns.corr())"
   ]
  },
  {
   "cell_type": "markdown",
   "id": "84e0bc23",
   "metadata": {},
   "source": [
    "## low risk portfolio"
   ]
  },
  {
   "cell_type": "code",
   "execution_count": 8,
   "id": "a25cce0c",
   "metadata": {},
   "outputs": [],
   "source": [
    "sp500_returns = sp500.pct_change().dropna()\n",
    "low_risk_annual_mean_returns = sp500_returns.mean() * trading_days\n",
    "low_risk_annual_var = sp500_returns.var() * trading_days"
   ]
  },
  {
   "cell_type": "code",
   "execution_count": 9,
   "id": "5a9e659e",
   "metadata": {},
   "outputs": [
    {
     "name": "stdout",
     "output_type": "stream",
     "text": [
      "Ticker\n",
      "^GSPC    0.129481\n",
      "dtype: float64\n"
     ]
    }
   ],
   "source": [
    "# returns of low risk S&P\n",
    "print(low_risk_annual_mean_returns)"
   ]
  },
  {
   "cell_type": "code",
   "execution_count": 10,
   "id": "bff29dca",
   "metadata": {},
   "outputs": [
    {
     "name": "stdout",
     "output_type": "stream",
     "text": [
      "Ticker\n",
      "^GSPC    0.028298\n",
      "dtype: float64\n"
     ]
    }
   ],
   "source": [
    "# variance of low risk S&P\n",
    "print(low_risk_annual_var)"
   ]
  },
  {
   "cell_type": "code",
   "execution_count": 11,
   "id": "c2e08832",
   "metadata": {},
   "outputs": [
    {
     "name": "stdout",
     "output_type": "stream",
     "text": [
      "Ticker\n",
      "^GSPC    0.168219\n",
      "dtype: float64\n"
     ]
    }
   ],
   "source": [
    "# std of low risk S&P\n",
    "SP_std = np.sqrt(low_risk_annual_var)\n",
    "print(SP_std)"
   ]
  },
  {
   "cell_type": "markdown",
   "id": "f0e0af6f",
   "metadata": {},
   "source": [
    "## observations\n",
    "While the S&P (low risk portfolio) has a lower return, it also has a lower variance. This begs the question, how low can we get the variance of the five risky stocks?"
   ]
  },
  {
   "cell_type": "markdown",
   "id": "9f9ac665-a949-4e4e-bd1e-0ec7fa44d421",
   "metadata": {},
   "source": [
    "## minimal-variance portfolio\n",
    "We minimize ${\\bf w}^{\\top} {\\bf \\Sigma} {\\bf w}$ over all ${\\bf w}$ subject to ${\\bf w}{\\bf 1} = {\\bf 1}$. Using Lagrange multipliers, we can show that the solution is given by\n",
    "$$\n",
    "{\\bf w} = \\frac{\\bf{\\Sigma^{-1} 1}}{\\bf{1^{\\top}\\Sigma^{-1} 1}}\n",
    "$$"
   ]
  },
  {
   "cell_type": "code",
   "execution_count": 12,
   "id": "1f9eaaa1-4530-4d81-8236-8cd7d1da68fa",
   "metadata": {},
   "outputs": [
    {
     "name": "stdout",
     "output_type": "stream",
     "text": [
      "  ticker   weights\n",
      "0   AAPL  0.333348\n",
      "1   AMZN  0.102056\n",
      "2   GOOG  0.289432\n",
      "3   MSFT  0.364815\n",
      "4   NVDA -0.089651\n"
     ]
    }
   ],
   "source": [
    "# some useful vectors to be used again later\n",
    "ones = np.ones(N_stocks)\n",
    "invC_1 = LA.solve(tech_annual_cov_matrix, ones)\n",
    "\n",
    "# weights of minimal variance portfolio\n",
    "min_var_weights = invC_1 / sum(invC_1)\n",
    "print(pd.DataFrame({'ticker': tickers,\n",
    "                    'weights': min_var_weights}))"
   ]
  },
  {
   "cell_type": "code",
   "execution_count": 13,
   "id": "6bf99a3e",
   "metadata": {},
   "outputs": [
    {
     "name": "stdout",
     "output_type": "stream",
     "text": [
      "0.23105916046723574\n"
     ]
    }
   ],
   "source": [
    "# return of minimal variance portfolio\n",
    "min_var_return = min_var_weights @ tech_annual_mean_returns\n",
    "print(min_var_return)"
   ]
  },
  {
   "cell_type": "code",
   "execution_count": 14,
   "id": "a22b032e",
   "metadata": {},
   "outputs": [
    {
     "name": "stdout",
     "output_type": "stream",
     "text": [
      "0.2303944950378205\n"
     ]
    }
   ],
   "source": [
    "# minimal std\n",
    "min_var_std = np.sqrt(min_var_weights @ tech_annual_cov_matrix @ min_var_weights)\n",
    "print(min_var_std)"
   ]
  },
  {
   "cell_type": "markdown",
   "id": "7c931188",
   "metadata": {},
   "source": [
    "## observations\n",
    "The minimal variance portfolio has a mean annual return of 23\\% with standard deviation 23\\%. By constrast, the S\\&P has a mean return of 13\\% and a standard deviation of 16\\%. What happens if we consider a mean-variance optimization?"
   ]
  },
  {
   "cell_type": "markdown",
   "id": "3a15fc77-5151-4237-9a99-51c743bae2c9",
   "metadata": {},
   "source": [
    "## optimal mean-variance portfolio\n",
    "We maxmize ${\\bf \\mu w} - \\frac{\\gamma}{2} {\\bf w^{\\top}\\Sigma w}$ over all ${\\bf w}$ subject to ${\\bf w^{\\top}1}$. The solution is given by\n",
    "$$\n",
    "{\\bf w} = \\frac{1}{\\gamma}{\\bf \\Sigma}^{-1}({\\bf \\mu} - \\lambda {\\bf 1})\n",
    "$$\n",
    "where\n",
    "$$\n",
    "\\lambda = \\frac{{\\bf 1^{\\top}\\Sigma^{-1}\\mu} - \\gamma}{{\\bf 1^{\\top}\\Sigma^{-1}1}}\n",
    "$$\n",
    "For simplicity, we take $\\gamma = 2$."
   ]
  },
  {
   "cell_type": "code",
   "execution_count": 15,
   "id": "146fc05b-a4af-4fea-9d26-3d3ee066ac4c",
   "metadata": {},
   "outputs": [
    {
     "name": "stdout",
     "output_type": "stream",
     "text": [
      "  ticker   weights\n",
      "0   AAPL -0.011471\n",
      "1   AMZN  0.134098\n",
      "2   GOOG -0.519907\n",
      "3   MSFT  0.143116\n",
      "4   NVDA  1.254163\n"
     ]
    }
   ],
   "source": [
    "gam = 2\n",
    "invC_mu = LA.solve(tech_annual_cov_matrix, tech_annual_mean_returns)\n",
    "lam = (ones @ invC_mu - gam) / (ones @ invC_1)\n",
    "mean_var_weights = (invC_mu - lam * invC_1) / gam\n",
    "\n",
    "# weights\n",
    "print(pd.DataFrame({'ticker': tickers,\n",
    "                    'weights': mean_var_weights}))"
   ]
  },
  {
   "cell_type": "code",
   "execution_count": 16,
   "id": "e0d9cf22",
   "metadata": {},
   "outputs": [
    {
     "name": "stdout",
     "output_type": "stream",
     "text": [
      "0.717633991764669\n"
     ]
    }
   ],
   "source": [
    "# return of mean-variance portfolio\n",
    "mean_var_return = mean_var_weights @ tech_annual_mean_returns\n",
    "print(mean_var_return)"
   ]
  },
  {
   "cell_type": "code",
   "execution_count": 17,
   "id": "9682fecb",
   "metadata": {},
   "outputs": [
    {
     "name": "stdout",
     "output_type": "stream",
     "text": [
      "0.5443978682842623\n"
     ]
    }
   ],
   "source": [
    "# std of mean-variance portfolio\n",
    "mean_var_std = np.sqrt(mean_var_weights @ tech_annual_cov_matrix @ mean_var_weights)\n",
    "print(mean_var_std)"
   ]
  },
  {
   "cell_type": "markdown",
   "id": "e0ef2f2f",
   "metadata": {},
   "source": [
    "## observations"
   ]
  },
  {
   "cell_type": "markdown",
   "id": "a6e82e1a",
   "metadata": {},
   "source": [
    "The mean variance portfolio has a mean annual return of 72% with standard deviation 54%. By constrast, the S&P has a mean return of 13% and a standard deviation of 16%."
   ]
  },
  {
   "cell_type": "markdown",
   "id": "58469bdb-9801-4f81-97d3-b79527a0ef26",
   "metadata": {},
   "source": [
    "## efficient frontier"
   ]
  },
  {
   "cell_type": "code",
   "execution_count": 18,
   "id": "88c2c963",
   "metadata": {},
   "outputs": [],
   "source": [
    "mSm = tech_annual_mean_returns @ invC_mu\n",
    "mSe = tech_annual_mean_returns @ invC_1\n",
    "eSe = ones @ invC_1\n",
    "\n",
    "def weights(mu_star):\n",
    "    A = mSm - mu_star * mSe\n",
    "    B = eSe * mu_star - mSe\n",
    "    C = eSe * mSm - mSe**2\n",
    "    return (A * invC_1 + B * invC_mu) / C"
   ]
  },
  {
   "cell_type": "code",
   "execution_count": 19,
   "id": "c87625f8",
   "metadata": {},
   "outputs": [],
   "source": [
    "mu = np.empty(100)\n",
    "sig = np.empty(100)\n",
    "\n",
    "for i,mu_star in enumerate(np.linspace(0,1,100)):\n",
    "    w = weights(mu_star)\n",
    "    mu[i] = w @ tech_annual_mean_returns\n",
    "    sig[i] = np.sqrt(w @ tech_annual_cov_matrix @ w)"
   ]
  },
  {
   "cell_type": "code",
   "execution_count": 20,
   "id": "5247e635",
   "metadata": {},
   "outputs": [
    {
     "data": {
      "image/png": "[encoded data removed]",
      "text/plain": [
       "<Figure size 1280x768 with 1 Axes>"
      ]
     },
     "metadata": {},
     "output_type": "display_data"
    }
   ],
   "source": [
    "fig, ax = plt.subplots(figsize = (5,3), dpi = 256)\n",
    "\n",
    "tech_annual_return_std = np.sqrt(np.diagonal(tech_annual_cov_matrix))\n",
    "\n",
    "ax.plot(sig[mu > min_var_return], mu[mu > min_var_return],\n",
    "        label = 'efficient frontier')\n",
    "ax.scatter(min_var_std, min_var_return, c = 'C0', zorder = 3,\n",
    "           label = 'min variance portfolio')\n",
    "ax.scatter(mean_var_std, mean_var_return, c = 'C2', zorder = 3,\n",
    "           label = 'mean variance portfolio')\n",
    "ax.scatter(SP_std, low_risk_annual_mean_returns, c = 'C3', zorder = 3,\n",
    "           label = 'S&P (low risk)')\n",
    "ax.plot(sig[mu <= min_var_return], mu[mu <= min_var_return], c = 'gray')\n",
    "ax.scatter(tech_annual_return_std, tech_annual_mean_returns,\n",
    "           color = 'C1', label = 'individual tech stocks')\n",
    "ax.set_xlabel(r'$\\sigma$')\n",
    "ax.set_ylabel(r'$\\mu$')\n",
    "ax.legend(fontsize = 'small')\n",
    "fig.savefig('fig1.jpeg', transparent = False, bbox_inches = 'tight');"
   ]
  },
  {
   "cell_type": "markdown",
   "id": "14eeffbf",
   "metadata": {},
   "source": [
    "## observations\n",
    "The low risk portfolio consisting of the S&P does not lie to the upper left of the efficient frontier, as I had expected."
   ]
  }
 ],
 "metadata": {
  "kernelspec": {
   "display_name": "Python 3 (ipykernel)",
   "language": "python",
   "name": "python3"
  },
  "language_info": {
   "codemirror_mode": {
    "name": "ipython",
    "version": 3
   },
   "file_extension": ".py",
   "mimetype": "text/x-python",
   "name": "python",
   "nbconvert_exporter": "python",
   "pygments_lexer": "ipython3",
   "version": "3.11.5"
  }
 },
 "nbformat": 4,
 "nbformat_minor": 5
}
